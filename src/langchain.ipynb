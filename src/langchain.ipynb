{
 "cells": [
  {
   "cell_type": "code",
   "execution_count": 1,
   "id": "8f3082b3",
   "metadata": {},
   "outputs": [
    {
     "name": "stdout",
     "output_type": "stream",
     "text": [
      "Note: you may need to restart the kernel to use updated packages.\n"
     ]
    }
   ],
   "source": [
    "%pip install --upgrade --quiet  langchain langchain-community langchainhub langchain-openai langchain-chroma bs4"
   ]
  },
  {
   "cell_type": "code",
   "execution_count": 2,
   "id": "1b6f1040",
   "metadata": {},
   "outputs": [
    {
     "name": "stdout",
     "output_type": "stream",
     "text": [
      "Requirement already satisfied: gpt4all in c:\\users\\leamd\\anaconda3\\lib\\site-packages (2.6.0)\n",
      "Requirement already satisfied: requests in c:\\users\\leamd\\anaconda3\\lib\\site-packages (from gpt4all) (2.31.0)\n",
      "Requirement already satisfied: tqdm in c:\\users\\leamd\\anaconda3\\lib\\site-packages (from gpt4all) (4.65.0)\n",
      "Requirement already satisfied: typing-extensions>=4.3.0 in c:\\users\\leamd\\anaconda3\\lib\\site-packages (from gpt4all) (4.9.0)\n",
      "Requirement already satisfied: charset-normalizer<4,>=2 in c:\\users\\leamd\\anaconda3\\lib\\site-packages (from requests->gpt4all) (2.0.4)\n",
      "Requirement already satisfied: idna<4,>=2.5 in c:\\users\\leamd\\anaconda3\\lib\\site-packages (from requests->gpt4all) (3.4)\n",
      "Requirement already satisfied: urllib3<3,>=1.21.1 in c:\\users\\leamd\\anaconda3\\lib\\site-packages (from requests->gpt4all) (2.2.1)\n",
      "Requirement already satisfied: certifi>=2017.4.17 in c:\\users\\leamd\\anaconda3\\lib\\site-packages (from requests->gpt4all) (2024.2.2)\n",
      "Requirement already satisfied: colorama in c:\\users\\leamd\\anaconda3\\lib\\site-packages (from tqdm->gpt4all) (0.4.6)\n",
      "Note: you may need to restart the kernel to use updated packages.\n"
     ]
    }
   ],
   "source": [
    "%pip install gpt4all"
   ]
  },
  {
   "cell_type": "code",
   "execution_count": 3,
   "id": "c530d3ce",
   "metadata": {},
   "outputs": [
    {
     "name": "stdout",
     "output_type": "stream",
     "text": [
      "Requirement already satisfied: pypdf in c:\\users\\leamd\\anaconda3\\lib\\site-packages (4.2.0)\n",
      "Requirement already satisfied: typing_extensions>=4.0 in c:\\users\\leamd\\anaconda3\\lib\\site-packages (from pypdf) (4.9.0)\n",
      "Note: you may need to restart the kernel to use updated packages.\n"
     ]
    }
   ],
   "source": [
    "%pip install pypdf"
   ]
  },
  {
   "cell_type": "code",
   "execution_count": 4,
   "id": "8e551426",
   "metadata": {},
   "outputs": [],
   "source": [
    "import bs4\n",
    "from langchain import hub\n",
    "from langchain_community.document_loaders import WebBaseLoader\n",
    "from langchain_chroma import Chroma\n",
    "from langchain_core.output_parsers import StrOutputParser\n",
    "from langchain_core.runnables import RunnablePassthrough\n",
    "from langchain_openai import OpenAIEmbeddings\n",
    "from langchain_text_splitters import RecursiveCharacterTextSplitter"
   ]
  },
  {
   "cell_type": "code",
   "execution_count": 5,
   "id": "3814f339",
   "metadata": {},
   "outputs": [],
   "source": [
    "import getpass\n",
    "import os\n",
    "\n",
    "os.environ[\"LANGCHAIN_TRACING_V2\"] = \"true\"\n",
    "os.environ[\"LANGCHAIN_API_KEY\"] = \"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\""
   ]
  },
  {
   "cell_type": "code",
   "execution_count": 6,
   "id": "d833e51d",
   "metadata": {},
   "outputs": [],
   "source": [
    "from langchain_community.llms import GPT4All\n",
    "\n",
    "llm = GPT4All(\n",
    "    model=r\"C:\\Users\\leamd\\Documents\\Cours\\Atelier_Pratique_II\\langchain\\mistral-7b-openorca.gguf2.Q4_0.gguf\",\n",
    "    max_tokens=2048,\n",
    ")"
   ]
  },
  {
   "cell_type": "code",
   "execution_count": 7,
   "id": "23c66cb6",
   "metadata": {},
   "outputs": [],
   "source": [
    "from langchain_community.embeddings import GPT4AllEmbeddings"
   ]
  },
  {
   "cell_type": "code",
   "execution_count": 8,
   "id": "2bbd064c",
   "metadata": {},
   "outputs": [],
   "source": [
    "#read txt file\n",
    "with open(\"href_list.txt\", \"r\") as file:\n",
    "    text = file.read()\n",
    "\n",
    "#split text into list of urls\n",
    "web_urls = text.split(\"\\n\")\n",
    "\n",
    "pdf_urls = []\n",
    "for url in web_urls:\n",
    "    if url == \"\":\n",
    "        web_urls.remove(url)\n",
    "\n",
    "    #if url is a pdf, add it to the pdf_urls list\n",
    "    if url.endswith(\".pdf\") > 0:\n",
    "        pdf_urls.append(url)\n",
    "        web_urls.remove(url)\n",
    "#remove empty strings\n",
    "web_urls = list(filter(None, web_urls))"
   ]
  },
  {
   "cell_type": "code",
   "execution_count": 9,
   "id": "1f9779ce",
   "metadata": {},
   "outputs": [],
   "source": [
    "from langchain_community.document_loaders import PyPDFLoader\n",
    "\n",
    "pages = []\n",
    "for url in pdf_urls:\n",
    "    loader = PyPDFLoader(url)\n",
    "    pages += loader.load()"
   ]
  },
  {
   "cell_type": "code",
   "execution_count": 10,
   "id": "c1605e98",
   "metadata": {},
   "outputs": [],
   "source": [
    "# Load, chunk and index the contents of the blog.\n",
    "loader = WebBaseLoader(\n",
    "    web_paths=(web_urls),\n",
    "    bs_kwargs=dict(\n",
    "        parse_only=bs4.SoupStrainer(\n",
    "            class_=(\"entry-header\", \"entry-content\")\n",
    "        )\n",
    "    ),\n",
    ")\n",
    "docs = loader.load()\n",
    "docs += pages\n",
    "\n",
    "text_splitter = RecursiveCharacterTextSplitter(chunk_size=1000, chunk_overlap=200)\n",
    "splits = text_splitter.split_documents(docs)\n",
    "vectorstore = Chroma.from_documents(documents=splits, embedding=GPT4AllEmbeddings())"
   ]
  },
  {
   "cell_type": "code",
   "execution_count": 11,
   "id": "8014261d",
   "metadata": {},
   "outputs": [],
   "source": [
    "# Retrieve and generate using the relevant snippets of the blog.\n",
    "retriever = vectorstore.as_retriever(k=5)\n",
    "# prompt = hub.pull(\"rlm/rag-prompt\")\n",
    "\n",
    "# def format_docs(docs):\n",
    "#     return \"\\n\\n\".join(doc.page_content for doc in docs)\n",
    "\n",
    "\n",
    "# rag_chain = (\n",
    "#     {\"context\": retriever | format_docs, \"question\": RunnablePassthrough()}\n",
    "#     | prompt\n",
    "#     | llm\n",
    "#     | StrOutputParser()\n",
    "# )"
   ]
  },
  {
   "cell_type": "code",
   "execution_count": 12,
   "id": "cf43dd58",
   "metadata": {},
   "outputs": [],
   "source": [
    "#rag_chain.invoke(\"Quel est la dernière date pour le conseil d'administation?\")"
   ]
  },
  {
   "cell_type": "code",
   "execution_count": 13,
   "id": "da411a33",
   "metadata": {},
   "outputs": [],
   "source": [
    "from langchain_community.chat_message_histories import ChatMessageHistory"
   ]
  },
  {
   "cell_type": "code",
   "execution_count": 14,
   "id": "e3371945",
   "metadata": {},
   "outputs": [],
   "source": [
    "import bs4\n",
    "from langchain.chains import create_history_aware_retriever, create_retrieval_chain\n",
    "from langchain.chains.combine_documents import create_stuff_documents_chain\n",
    "from langchain_chroma import Chroma\n",
    "from langchain_community.chat_message_histories import ChatMessageHistory\n",
    "from langchain_community.document_loaders import WebBaseLoader\n",
    "from langchain_core.chat_history import BaseChatMessageHistory\n",
    "from langchain_core.prompts import ChatPromptTemplate, MessagesPlaceholder\n",
    "from langchain_core.runnables.history import RunnableWithMessageHistory\n",
    "from langchain_openai import ChatOpenAI, OpenAIEmbeddings\n",
    "from langchain_text_splitters import RecursiveCharacterTextSplitter\n",
    "\n",
    "### Contextualize question ###\n",
    "contextualize_q_system_prompt = \"\"\"Compte tenu de l'historique des discussions et de la dernière question de l'utilisateur \\\n",
    "qui pourrait faire référence au contexte dans l'historique des discussions, formuler une question autonome \\\n",
    "qui peut être compris sans l'historique des discussions. Ne répondez PAS à la question, \\\n",
    "reformulez-le simplement si nécessaire et sinon renvoyez-le tel quel.\"\"\"\n",
    "contextualize_q_prompt = ChatPromptTemplate.from_messages(\n",
    "    [\n",
    "        (\"system\", contextualize_q_system_prompt),\n",
    "        MessagesPlaceholder(\"chat_history\"),\n",
    "        (\"human\", \"{input}\"),\n",
    "    ]\n",
    ")\n",
    "history_aware_retriever = create_history_aware_retriever(\n",
    "    llm, retriever, contextualize_q_prompt\n",
    ")\n",
    "\n",
    "\n",
    "### Answer question ###\n",
    "qa_system_prompt = \"\"\"Vous êtes assistant pour les tâches de réponses aux questions. \\\n",
    "Utilisez les éléments de contexte récupérés suivants pour répondre à la question. \\\n",
    "Si vous ne connaissez pas la réponse, dites simplement que vous ne la savez pas. \\\n",
    "Utilisez trois phrases maximum et gardez la réponse concise.\\\n",
    "\n",
    "{context}\"\"\"\n",
    "qa_prompt = ChatPromptTemplate.from_messages(\n",
    "    [\n",
    "        (\"system\", qa_system_prompt),\n",
    "        MessagesPlaceholder(\"chat_history\"),\n",
    "        (\"human\", \"{input}\"),\n",
    "    ]\n",
    ")\n",
    "question_answer_chain = create_stuff_documents_chain(llm, qa_prompt)\n",
    "\n",
    "rag_chain = create_retrieval_chain(history_aware_retriever, question_answer_chain)"
   ]
  },
  {
   "cell_type": "code",
   "execution_count": 15,
   "id": "3073546d",
   "metadata": {},
   "outputs": [],
   "source": [
    "from langchain_core.chat_history import BaseChatMessageHistory\n",
    "from langchain_core.runnables.history import RunnableWithMessageHistory\n",
    "\n",
    "\n",
    "### Statefully manage chat history ###\n",
    "store = {}\n",
    "\n",
    "\n",
    "def get_session_history(session_id: str) -> BaseChatMessageHistory:\n",
    "    if session_id not in store:\n",
    "        store[session_id] = ChatMessageHistory()\n",
    "    return store[session_id]\n",
    "\n",
    "\n",
    "conversational_rag_chain = RunnableWithMessageHistory(\n",
    "    rag_chain,\n",
    "    get_session_history,\n",
    "    input_messages_key=\"input\",\n",
    "    history_messages_key=\"chat_history\",\n",
    "    output_messages_key=\"answer\",\n",
    ")"
   ]
  },
  {
   "cell_type": "code",
   "execution_count": 16,
   "id": "d9232d81",
   "metadata": {},
   "outputs": [
    {
     "name": "stderr",
     "output_type": "stream",
     "text": [
      "Parent run 99038e14-0996-4356-9b60-50e91c4a42b6 not found for run 104f03bf-d372-44c8-8c20-63fc7383296e. Treating as a root run.\n"
     ]
    },
    {
     "data": {
      "text/plain": [
       "'\\nAI: Le titre de docteur honoris causa est décerné à des personnes dont le mérite exceptionnel justifie un témoignage public d’appréciation et d’estime. Il s’adresse à des personnes extérieures à la communauté universitaire. Ces personnes éminentes ont, par leurs contributions, atteint des résultats hors du commun en plus de laisser leur marque dans un domaine précis. Ce titre permet de souligner la carrière, l’œuvre ou l’engagement d’une personne d’exception. La portée des réalisations ou du mérite de la personne se situe au niveau provincial, national ou international.'"
      ]
     },
     "execution_count": 16,
     "metadata": {},
     "output_type": "execute_result"
    }
   ],
   "source": [
    "conversational_rag_chain.invoke(\n",
    "    {\"input\": \"Quel est la définition de 'Docteur honoris causa'?\"},\n",
    "    config={\n",
    "        \"configurable\": {\"session_id\": \"abc123\"}\n",
    "    },  # constructs a key \"abc123\" in `store`.\n",
    ")[\"answer\"]"
   ]
  },
  {
   "cell_type": "code",
   "execution_count": 17,
   "id": "506c94ec",
   "metadata": {},
   "outputs": [
    {
     "name": "stderr",
     "output_type": "stream",
     "text": [
      "Parent run 58d184a2-4788-4be5-87aa-a6e10de990ff not found for run 6b7d1b5b-735e-4101-a4dd-d76dee28a830. Treating as a root run.\n"
     ]
    },
    {
     "data": {
      "text/plain": [
       "\"\\nAI: L'Université du Québec à Chicoutimi (UQAC) peut décider d’attribuer un titre honorifique d’«Ambassadeur» ou «Ambassadrice». Ce titre est réservé aux personnes qui ont apporté une contribution exceptionnelle et significative au développement de l'institution. Cela peut inclure des réalisations dans le domaine académique, scientifique, culturel ou social, ainsi que d’autres domaines pertinents pour la mission et les valeurs de l'UQAC. Les ambassadeurs honoraires peuvent être des personnalités locales, régionales, nationales ou internationales qui ont un lien étroit avec l'Université du Québec à Chicoutimi et contribuent au rayonnement de cette institution.\""
      ]
     },
     "execution_count": 17,
     "metadata": {},
     "output_type": "execute_result"
    }
   ],
   "source": [
    "conversational_rag_chain.invoke(\n",
    "    {\"input\": \"Et celle de « Ambassadrice, ambassadeur » dans le contexte de l'UQAC?\"},\n",
    "    config={\"configurable\": {\"session_id\": \"abc123\"}},\n",
    ")[\"answer\"]"
   ]
  },
  {
   "cell_type": "code",
   "execution_count": 18,
   "id": "c907f933",
   "metadata": {},
   "outputs": [
    {
     "name": "stderr",
     "output_type": "stream",
     "text": [
      "Parent run f03374c3-79cc-420c-8285-aad773a06fb3 not found for run 2e09950a-5950-4fcb-a720-2871d6d5de72. Treating as a root run.\n"
     ]
    },
    {
     "data": {
      "text/plain": [
       "\"\\nAI: \\nAI: Les critères de sélection pour les personnes à risque en matière de biosécurité au sein de l’Université du Québec à Chicoutimi (UQAC) sont basés sur plusieurs facteurs. Tout d'abord, il est nécessaire que la personne soit impliquée dans des activités de recherche ou d'enseignement qui impliquent le manipulation de matériel infectieux ou d'organismes comportant des risques biologiques. Ensuite, les niveaux de confinement appropriés doivent être déterminés pour chaque projet en fonction du niveau de risque associé et des exigences spécifiques liées à la biosécurité. Les personnes sélectionnées doivent également suivre une formation approfondie sur les pratiques de sécurité, l'équipement de protection individuelle (EPI) et les procédures d'urgence en matière de biosécurité. Enfin, elles ou ils doivent être en mesure de mettre en œuvre des protocoles de travail rigou\""
      ]
     },
     "execution_count": 18,
     "metadata": {},
     "output_type": "execute_result"
    }
   ],
   "source": [
    "conversational_rag_chain.invoke(\n",
    "    {\"input\": \"Quelles sont les critères de sélection des personnes à risques dans le cas de la biosécurité pour l'UQAC?\"},\n",
    "    config={\"configurable\": {\"session_id\": \"abc123\"}},\n",
    ")[\"answer\"]"
   ]
  }
 ],
 "metadata": {
  "kernelspec": {
   "display_name": "Python 3 (ipykernel)",
   "language": "python",
   "name": "python3"
  },
  "language_info": {
   "codemirror_mode": {
    "name": "ipython",
    "version": 3
   },
   "file_extension": ".py",
   "mimetype": "text/x-python",
   "name": "python",
   "nbconvert_exporter": "python",
   "pygments_lexer": "ipython3",
   "version": "3.9.7"
  }
 },
 "nbformat": 4,
 "nbformat_minor": 5
}
